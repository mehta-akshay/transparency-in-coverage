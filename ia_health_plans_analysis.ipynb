{
 "cells": [
  {
   "cell_type": "markdown",
   "metadata": {
    "application/vnd.databricks.v1+cell": {
     "cellMetadata": {},
     "inputWidgets": {},
     "nuid": "528c5490-77d9-405f-be80-9aa496cf5b69",
     "showTitle": false,
     "title": ""
    }
   },
   "source": [
    "## Project Hephaestus - Transparency in Coverage"
   ]
  },
  {
   "cell_type": "markdown",
   "metadata": {
    "application/vnd.databricks.v1+cell": {
     "cellMetadata": {},
     "inputWidgets": {},
     "nuid": "e5eea0ee-1ebb-46b6-b96e-565919828cb4",
     "showTitle": false,
     "title": ""
    }
   },
   "source": [
    "### Assumptions\n",
    " - Transparency in coverage files were found manually through different insurance providers websites\n",
    " - We have taken PPO in_network data for below insuarance providers\n",
    "   - Wellmark\n",
    "   - UMC (UHC, United Health Care)\n",
    "   - HealthPlans\n",
    " - Once the files were downloaded, the below code instructions were run manually for each insurance provider file.\n",
    "   - This was done due to the fact that the format of the files were different and many times, the data was wrapped as a string array or a string in some of the string columns.\n",
    " - The data transformation followed three-phased approach of Bronze, Silver, and Gold Lake model where the data was first written to a Bronze table, then transformed to Silver and then curated to a Gold table which ultimately was used for analysis.\n",
    " - Due to the fact that the data is very large, we have considered some common used procedure to do our analysis but made all available to be searched for our stakeholders.\n",
    " - The analysis is all based on the the data available by the insurance provider.\n",
    " - The data can be a few months old as was available on insurance provider websites."
   ]
  },
  {
   "cell_type": "markdown",
   "metadata": {
    "application/vnd.databricks.v1+cell": {
     "cellMetadata": {},
     "inputWidgets": {},
     "nuid": "4f073819-ca8b-4df5-bb86-83df394a5424",
     "showTitle": false,
     "title": ""
    }
   },
   "source": [
    "Import necessary libraries"
   ]
  },
  {
   "cell_type": "code",
   "execution_count": 0,
   "metadata": {
    "application/vnd.databricks.v1+cell": {
     "cellMetadata": {
      "byteLimit": 2048000,
      "rowLimit": 10000
     },
     "inputWidgets": {},
     "nuid": "a019ff17-da70-421f-869a-920b9ca70665",
     "showTitle": false,
     "title": ""
    }
   },
   "outputs": [],
   "source": [
    "import json\n",
    "import os\n",
    "import gzip, zipfile\n",
    "import requests\n",
    "import pandas as pd\n",
    "import shutil\n",
    "import numpy as np\n",
    "import itertools\n",
    "import shutil\n",
    "from pyspark.sql.functions import explode"
   ]
  },
  {
   "cell_type": "markdown",
   "metadata": {
    "application/vnd.databricks.v1+cell": {
     "cellMetadata": {},
     "inputWidgets": {},
     "nuid": "c183a37d-84e6-45b4-8756-1225602bc884",
     "showTitle": false,
     "title": ""
    }
   },
   "source": [
    "Create spark session"
   ]
  },
  {
   "cell_type": "code",
   "execution_count": 0,
   "metadata": {
    "application/vnd.databricks.v1+cell": {
     "cellMetadata": {
      "byteLimit": 2048000,
      "rowLimit": 10000
     },
     "inputWidgets": {},
     "nuid": "03641d8c-31d4-4e58-a8b9-aa05cb6427cf",
     "showTitle": false,
     "title": ""
    }
   },
   "outputs": [],
   "source": [
    "from pyspark.sql import SparkSession\n",
    "\n",
    "spark = SparkSession.builder.getOrCreate()"
   ]
  },
  {
   "cell_type": "markdown",
   "metadata": {
    "application/vnd.databricks.v1+cell": {
     "cellMetadata": {},
     "inputWidgets": {},
     "nuid": "c8d6d1a1-904b-4e41-ab97-af18b7d739db",
     "showTitle": false,
     "title": ""
    }
   },
   "source": [
    "If Zip file, extract json file"
   ]
  },
  {
   "cell_type": "code",
   "execution_count": 0,
   "metadata": {
    "application/vnd.databricks.v1+cell": {
     "cellMetadata": {
      "byteLimit": 2048000,
      "rowLimit": 10000
     },
     "inputWidgets": {},
     "nuid": "5fbd6a3c-d52b-4a55-88b3-2087198d0212",
     "showTitle": false,
     "title": ""
    }
   },
   "outputs": [],
   "source": [
    "with zipfile.ZipFile('/dbfs/FileStore/Akshay/IowaHealthData/HealthPartners/2023_03_01_HealthPartners_Iowa_Specialty_in_network_rates.zip'\n",
    ", 'r') as zip_ref:\n",
    "    zip_ref.extractall('/dbfs/FileStore/Akshay/IowaHealthData/HealthPartners/json_files')"
   ]
  },
  {
   "cell_type": "markdown",
   "metadata": {
    "application/vnd.databricks.v1+cell": {
     "cellMetadata": {},
     "inputWidgets": {},
     "nuid": "64132ac6-24ee-4cae-a5e7-efe954a585d6",
     "showTitle": false,
     "title": ""
    }
   },
   "source": [
    "If gzip file, extract json file"
   ]
  },
  {
   "cell_type": "code",
   "execution_count": 0,
   "metadata": {
    "application/vnd.databricks.v1+cell": {
     "cellMetadata": {},
     "inputWidgets": {},
     "nuid": "0bf7ae7b-44bd-418c-a1ff-96c154726b6c",
     "showTitle": false,
     "title": ""
    }
   },
   "outputs": [],
   "source": [
    "with gzip.open(\n",
    "    \"/dbfs/FileStore/Akshay/IowaHealthData/Aetna/03-06/2023_02_09_Aetna_Health_of_Iowa_Inc_json.gz\",\n",
    "    \"rb\",\n",
    ") as f_in:\n",
    "    with open(\n",
    "        \"/dbfs/FileStore/Akshay/IowaHealthData/Aetna/03-06/2023_02_09_Aetna_Health_of_Iowa_Inc.json\",\n",
    "        \"wb\",\n",
    "    ) as f_out:\n",
    "        shutil.copyfileobj(f_in, f_out)"
   ]
  },
  {
   "cell_type": "markdown",
   "metadata": {
    "application/vnd.databricks.v1+cell": {
     "cellMetadata": {},
     "inputWidgets": {},
     "nuid": "4e5fd3c0-2ce0-4444-9bc0-3738c408bd02",
     "showTitle": false,
     "title": ""
    }
   },
   "source": [
    "List files to ensure the json file is there"
   ]
  },
  {
   "cell_type": "code",
   "execution_count": 0,
   "metadata": {
    "application/vnd.databricks.v1+cell": {
     "cellMetadata": {
      "byteLimit": 2048000,
      "rowLimit": 10000
     },
     "inputWidgets": {},
     "nuid": "9b7ecf4c-ccd0-465f-9c0a-3a43840652c5",
     "showTitle": false,
     "title": ""
    }
   },
   "outputs": [],
   "source": [
    "%fs\n",
    "ls /FileStore/Akshay/IowaHealthData/HealthPartners/json_files\n"
   ]
  },
  {
   "cell_type": "markdown",
   "metadata": {
    "application/vnd.databricks.v1+cell": {
     "cellMetadata": {},
     "inputWidgets": {},
     "nuid": "523f966e-6a4d-438a-90e9-a07ca9f6c10f",
     "showTitle": false,
     "title": ""
    }
   },
   "source": [
    "Create database `health_plans`"
   ]
  },
  {
   "cell_type": "code",
   "execution_count": 0,
   "metadata": {
    "application/vnd.databricks.v1+cell": {
     "cellMetadata": {
      "byteLimit": 2048000,
      "rowLimit": 10000
     },
     "inputWidgets": {},
     "nuid": "037cf8f1-2f2b-4b0a-8b0f-955eb8fdc386",
     "showTitle": false,
     "title": ""
    }
   },
   "outputs": [],
   "source": [
    "db_name = \"health_plans\"\n",
    "spark.sql(f\"CREATE DATABASE IF NOT EXISTS {db_name}\")"
   ]
  },
  {
   "cell_type": "code",
   "execution_count": 0,
   "metadata": {
    "application/vnd.databricks.v1+cell": {
     "cellMetadata": {
      "byteLimit": 2048000,
      "rowLimit": 10000
     },
     "inputWidgets": {},
     "nuid": "71c90ce5-87b2-40c7-b896-432efec1405e",
     "showTitle": false,
     "title": ""
    }
   },
   "outputs": [],
   "source": [
    "def load_file(file_path):\n",
    "    data = {}\n",
    "    with open(file_path, \"r\") as f:\n",
    "        data = json.loads(f.read())\n",
    "    return data"
   ]
  },
  {
   "cell_type": "code",
   "execution_count": 0,
   "metadata": {
    "application/vnd.databricks.v1+cell": {
     "cellMetadata": {
      "byteLimit": 2048000,
      "rowLimit": 10000
     },
     "inputWidgets": {},
     "nuid": "94c2023d-01cd-4c4d-8479-0d84bab04cd3",
     "showTitle": false,
     "title": ""
    }
   },
   "outputs": [],
   "source": [
    "def flatten_data(data):\n",
    "    in_network = pd.json_normalize(\n",
    "        data[\"in_network\"],\n",
    "        record_path=[\"negotiated_rates\", \"negotiated_prices\"],\n",
    "        meta=[\n",
    "            \"negotiation_arrangement\",\n",
    "            \"name\",\n",
    "            \"billing_code_type\",\n",
    "            \"billing_code_type_version\",\n",
    "            \"billing_code\",\n",
    "            \"description\",\n",
    "            [\"negotiated_rates\", \"provider_references\"],\n",
    "        ],\n",
    "    )\n",
    "    #   in_network = validate_and_convert_provider_references(in_network)\n",
    "    in_network = in_network.drop(\"billing_code_modifier\", axis=1)\n",
    "    in_network[\"reporting_entity_name\"] = data[\"reporting_entity_name\"]\n",
    "    in_network[\"reporting_entity_type\"] = data[\"reporting_entity_type\"]\n",
    "    in_network[\"last_updated_on\"] = data[\"last_updated_on\"]\n",
    "    in_network[\"version\"] = data[\"version\"]\n",
    "    in_network = in_network.drop(\"service_code\", axis=1)\n",
    "    print(\"flattened the data\")\n",
    "    return in_network"
   ]
  },
  {
   "cell_type": "code",
   "execution_count": 0,
   "metadata": {
    "application/vnd.databricks.v1+cell": {
     "cellMetadata": {
      "byteLimit": 2048000,
      "rowLimit": 10000
     },
     "inputWidgets": {},
     "nuid": "38e4ded6-af10-4e1f-a54c-d79b399b6152",
     "showTitle": false,
     "title": ""
    }
   },
   "outputs": [],
   "source": [
    "def validate_and_convert_provider_references(in_network):\n",
    "    changes = [\"negotiated_rates.provider_references\"]\n",
    "    cols = in_network.columns.difference(changes).tolist()\n",
    "    in_network = (\n",
    "        in_network.groupby(cols)[changes]\n",
    "        .agg(list)\n",
    "        .reset_index()\n",
    "        .reindex(in_network.columns, axis=1)\n",
    "    )\n",
    "    provider_references_new = []\n",
    "    for ref in in_network[\"negotiated_rates.provider_references\"]:\n",
    "        provider_references_new.append(list(itertools.chain.from_iterable(ref)))\n",
    "    in_network[\"negotiated_rates.provider_references\"] = provider_references_new\n",
    "    in_network[\"negotiated_rates.provider_references\"]\n",
    "    print(\"validate_and_convert_provider_references\")\n",
    "    return in_network"
   ]
  },
  {
   "cell_type": "code",
   "execution_count": 0,
   "metadata": {
    "application/vnd.databricks.v1+cell": {
     "cellMetadata": {
      "byteLimit": 2048000,
      "rowLimit": 10000
     },
     "inputWidgets": {},
     "nuid": "66e3c4bc-c777-4a3a-93be-2d6fdc819a61",
     "showTitle": false,
     "title": ""
    }
   },
   "outputs": [],
   "source": [
    "def write_df_to_delta(data, delta_path):\n",
    "    print(\"starting to create dataframe for in_network_data\")\n",
    "    df = spark.createDataFrame(data)\n",
    "    df = df.withColumn(\n",
    "        \"provider_references\", df[\"`negotiated_rates.provider_references`\"]\n",
    "    )\n",
    "    df = df.drop(\"negotiated_rates.provider_references\")\n",
    "    df.write.mode(\"append\").option(\"mergeSchema\", \"true\").format(\"delta\").save(\n",
    "        delta_path\n",
    "    )\n",
    "    print(\"successfully wrote dataframe for in_network_data\")"
   ]
  },
  {
   "cell_type": "code",
   "execution_count": 0,
   "metadata": {
    "application/vnd.databricks.v1+cell": {
     "cellMetadata": {
      "byteLimit": 2048000,
      "rowLimit": 10000
     },
     "inputWidgets": {},
     "nuid": "3879ea8b-0747-4242-9ebb-c880bf762cc0",
     "showTitle": false,
     "title": ""
    }
   },
   "outputs": [],
   "source": [
    "def process_provider_references(data):\n",
    "    provider_references = pd.json_normalize(\n",
    "        data[\"provider_references\"],\n",
    "        record_path=\"provider_groups\",\n",
    "        meta=[\"provider_group_id\", [\"provider_groups\"]],\n",
    "    )\n",
    "    provider_references[\"reporting_entity_name\"] = data[\"reporting_entity_name\"]\n",
    "    provider_references[\"reporting_entity_type\"] = data[\"reporting_entity_type\"]\n",
    "    provider_references[\"last_updated_on\"] = data[\"last_updated_on\"]\n",
    "    provider_references[\"version\"] = data[\"version\"]\n",
    "    provider_references = provider_references.drop(\"provider_groups\", axis=1)\n",
    "\n",
    "    provider_referencesDF = spark.createDataFrame(provider_references)\n",
    "    provider_referencesDF.write.mode(\"append\").option(\"mergeSchema\", \"true\").format(\n",
    "        \"delta\"\n",
    "    ).save(\"/mnt/edl/raw/iowa_health_plans/health_partners/provider_references\")"
   ]
  },
  {
   "cell_type": "code",
   "execution_count": 0,
   "metadata": {
    "application/vnd.databricks.v1+cell": {
     "cellMetadata": {
      "byteLimit": 2048000,
      "rowLimit": 10000
     },
     "inputWidgets": {},
     "nuid": "379b057f-40a5-4469-b2c3-0bb3147815b4",
     "showTitle": false,
     "title": ""
    }
   },
   "outputs": [],
   "source": [
    "def process_in_network(data):\n",
    "    in_network = flatten_data(data)\n",
    "    write_df_to_delta(in_network, \"/mnt/edl/raw/iowa_health_plans/health_partners/in_network_rates\")"
   ]
  },
  {
   "cell_type": "code",
   "execution_count": 0,
   "metadata": {
    "application/vnd.databricks.v1+cell": {
     "cellMetadata": {
      "byteLimit": 2048000,
      "rowLimit": 10000
     },
     "inputWidgets": {},
     "nuid": "953e1d12-57f7-4123-966f-405a0febf6d0",
     "showTitle": false,
     "title": ""
    }
   },
   "outputs": [],
   "source": [
    "def process_in_network_wellmark(data):\n",
    "    in_network = flatten_data(data)\n",
    "    in_network = in_network.explode(\"negotiated_rates.provider_references\")\n",
    "    write_df_to_delta(in_network, \"/mnt/edl/raw/iowa_health_plans/health_partners/in_network_rates\")"
   ]
  },
  {
   "cell_type": "markdown",
   "metadata": {
    "application/vnd.databricks.v1+cell": {
     "cellMetadata": {},
     "inputWidgets": {},
     "nuid": "08a8d54a-84b6-44cb-8989-52fdacb3a651",
     "showTitle": false,
     "title": ""
    }
   },
   "source": [
    "Process json files one by one. This is due to the fact that the files have little different format."
   ]
  },
  {
   "cell_type": "code",
   "execution_count": 0,
   "metadata": {
    "application/vnd.databricks.v1+cell": {
     "cellMetadata": {
      "byteLimit": 2048000,
      "rowLimit": 10000
     },
     "inputWidgets": {},
     "nuid": "1a681292-1a70-4394-8011-dd6382161270",
     "showTitle": false,
     "title": ""
    }
   },
   "outputs": [],
   "source": [
    "files = [\n",
    "    #  '/dbfs/FileStore/Akshay/IowaHealthData/2023_02_01_United_HealthCare_Services__Inc__Third_Party_Administrator_PPO___NDC_PPO_NDC_in_network_r.json',\n",
    "    #  '/dbfs/FileStore/Akshay/IowaHealthData/Aetna/2023_02_09_4c4a38f7_b4bd_4ced_949c_fe2c14f25c87_Aetna_Health_of_Iowa_Inc__json' #,\n",
    "    #  '/dbfs/FileStore/Akshay/IowaHealthData/Wellmark/2023_02_01_WMK_I_PLAN2_13B0_HealthSparq.json',\n",
    "    #  '/dbfs/FileStore/Akshay/IowaHealthData/Wellmark/2023_02_01_WMK_I_PLAN4_13E0_HealthSparq.json',\n",
    "    #  '/dbfs/FileStore/Akshay/IowaHealthData/UHC/2023_02_01_United_Healthcare_Services_Choice_Plus_POS_8_in_network_rates.json',\n",
    "    #   '/dbfs/FileStore/Akshay/IowaHealthData/UHC/03-05-2023/2023_03_01_UMR_OPTIONS_PPO__B_58_in_network_rates_json',\n",
    "    #     '/dbfs/FileStore/Akshay/IowaHealthData/Wellmark/03-05/2023_03_01_WMK_I_PLAN2_13B0_HealthSparq.json',\n",
    "    #     '/dbfs/FileStore/Akshay/IowaHealthData/Wellmark/03-05/2023_03_01_WMK_I_PLAN2_13B0_HealthSparq__1_.json',\n",
    "    #     '/dbfs/FileStore/Akshay/IowaHealthData/Wellmark/03-05/2023_03_01_WMK_I_PLAN2_13B0_HealthSparq__2_.json',\n",
    "    #     '/dbfs/FileStore/Akshay/IowaHealthData/Wellmark/03-05/2023_03_01_WMK_I_PLAN2_13B0_HealthSparq__3_.json',\n",
    "    #     '/dbfs/FileStore/Akshay/IowaHealthData/Wellmark/03-05/2023_03_01_WMK_I_PLAN2_13B0_HealthSparq__4_.json',\n",
    "    #     '/dbfs/FileStore/Akshay/IowaHealthData/Wellmark/03-05/2023_03_01_WMK_I_PLAN2_13B0_HealthSparq__5_.json',\n",
    "    #     '/dbfs/FileStore/Akshay/IowaHealthData/Wellmark/03-05/2023_03_01_WMK_I_PLAN2_13B0_HealthSparq__6_.json',\n",
    "    #     '/dbfs/FileStore/Akshay/IowaHealthData/Wellmark/03-05/2023_03_01_WMK_I_PLAN2_13B0_HealthSparq__7_.json',\n",
    "    #     '/dbfs/FileStore/Akshay/IowaHealthData/Wellmark/03-05/2023_03_01_WMK_I_PLAN2_13B0_HealthSparq__8_.json',\n",
    "    #     '/dbfs/FileStore/Akshay/IowaHealthData/Wellmark/03-05/2023_03_01_WMK_I_PLAN2_13B0_HealthSparq__9_.json',\n",
    "    #     \"/dbfs/FileStore/Akshay/IowaHealthData/Aetna/03-06/2023_02_09_Aetna_Health_of_Iowa_Inc.json\",\n",
    "    #     '/dbfs/FileStore/Akshay/IowaHealthData/HealthPartners/json_files/2023-03-01_HealthPartners_Open-Access_in-network-rates.json',\n",
    "          '/dbfs/FileStore/Akshay/IowaHealthData/HealthPartners/json_files/2023-03-01_HealthPartners_Iowa-Specialty_in-network-rates.json'\n",
    "]\n",
    "data = {}\n",
    "for pos_json in files:\n",
    "    print(\"loading file \", pos_json)\n",
    "    data = load_file(pos_json)\n",
    "  process_in_network(data)\n",
    "  # process_in_network_wellmark(data) # If the file is Wellmark then run this method.\n",
    "  process_provider_references(data)"
   ]
  },
  {
   "cell_type": "markdown",
   "metadata": {
    "application/vnd.databricks.v1+cell": {
     "cellMetadata": {},
     "inputWidgets": {},
     "nuid": "f140d0af-e68b-48d6-b6e7-53f03fee2939",
     "showTitle": false,
     "title": ""
    }
   },
   "source": [
    "Load NPI data from csv file"
   ]
  },
  {
   "cell_type": "code",
   "execution_count": 0,
   "metadata": {
    "application/vnd.databricks.v1+cell": {
     "cellMetadata": {},
     "inputWidgets": {},
     "nuid": "80461009-1196-4a51-8071-581b718a10d6",
     "showTitle": false,
     "title": ""
    }
   },
   "outputs": [],
   "source": [
    "def load_and_process_npi_data(file_path):\n",
    "    npi_data = pd.read_csv(file_path, header=0)\n",
    "    npi_data.rename(\n",
    "        columns={\n",
    "            \"Provider Organization Name (Legal Business Name)\": \"Organization_Name\",\n",
    "            \"Provider Last Name (Legal Name)\": \"Last_Name\",\n",
    "            \"Provider First Name\": \"First_Name\",\n",
    "            \"Provider First Line Business Practice Location Address\": \"Practice_Location_Address\",\n",
    "            \"Provider Second Line Business Practice Location Address\": \"Second_Line_Practice_Location_Address\",\n",
    "            \"Provider Business Practice Location Address City Name\": \"Practice_Location_Address_City\",\n",
    "            \"Provider Business Practice Location Address State Name\": \"Practice_Location_Address_State\",\n",
    "            \"Provider Business Practice Location Address Postal Code\": \"Practice_Location_Address_Postal_Code\",\n",
    "        },\n",
    "        inplace=True,\n",
    "    )\n",
    "    npi_data = npi_data.drop(\"Unnamed: 0\", axis=1)\n",
    "    print(\"starting to create dataframe for npi\")\n",
    "    df = spark.createDataFrame(npi_data)\n",
    "    df.withColumnRenamed(\n",
    "        \"Provider Organization Name (Legal Business Name)\", \"Organization_Name\"\n",
    "    )\n",
    "    df.withColumnRenamed(\"Provider Last Name (Legal Name)\", \"Last_Name\")\n",
    "    df.withColumnRenamed(\"Provider First Name\", \"First_Name\")\n",
    "    df.withColumnRenamed(\n",
    "        \"Provider First Line Business Practice Location Address\",\n",
    "        \"Practice_Location_Address\",\n",
    "    )\n",
    "    df.withColumnRenamed(\n",
    "        \"Provider Second Line Business Practice Location Address\",\n",
    "        \"Second_Line_Practice_Location_Address\",\n",
    "    )\n",
    "    df.withColumnRenamed(\n",
    "        \"Provider Business Practice Location Address City Name\",\n",
    "        \"Practice_Location_Address_City\",\n",
    "    )\n",
    "    df.withColumnRenamed(\n",
    "        \"Provider Business Practice Location Address State Name\",\n",
    "        \"Practice_Location_Address_State\",\n",
    "    )\n",
    "    df.withColumnRenamed(\n",
    "        \"Provider Business Practice Location Address Postal Code\",\n",
    "        \"Practice_Location_Address_Postal_Code\",\n",
    "    )\n",
    "    df.write.mode(\"overwrite\").option(\"mergeSchema\", \"true\").format(\"delta\").save(\n",
    "        \"/mnt/edl/raw/iowa_health_plans/npi\"\n",
    "    )\n",
    "    print(\"successfully wrote dataframe for npi\")"
   ]
  },
  {
   "cell_type": "code",
   "execution_count": 0,
   "metadata": {
    "application/vnd.databricks.v1+cell": {
     "cellMetadata": {},
     "inputWidgets": {},
     "nuid": "3bda6b26-bdb3-4ceb-ac05-3ac81ba8625a",
     "showTitle": false,
     "title": ""
    }
   },
   "outputs": [],
   "source": [
    "load_and_process_npi_data('/dbfs/FileStore/Akshay/NPI/Iowa/Iowa_NPI.csv')"
   ]
  },
  {
   "cell_type": "markdown",
   "metadata": {
    "application/vnd.databricks.v1+cell": {
     "cellMetadata": {},
     "inputWidgets": {},
     "nuid": "c938ab69-9a87-48ff-a3b2-4e69eafa5c2d",
     "showTitle": false,
     "title": ""
    }
   },
   "source": [
    "Create Bronze tables on top of the processed data if table does not exist."
   ]
  },
  {
   "cell_type": "code",
   "execution_count": 0,
   "metadata": {
    "application/vnd.databricks.v1+cell": {
     "cellMetadata": {
      "implicitDf": true
     },
     "inputWidgets": {},
     "nuid": "cde8d793-11ce-44f8-b4c0-0272c42590e8",
     "showTitle": false,
     "title": ""
    }
   },
   "outputs": [],
   "source": [
    "%sql\n",
    "CREATE TABLE IF NOT EXISTS health_plans.npi USING DELTA LOCATION '/mnt/edl/raw/iowa_health_plans/npi';"
   ]
  },
  {
   "cell_type": "code",
   "execution_count": 0,
   "metadata": {
    "application/vnd.databricks.v1+cell": {
     "cellMetadata": {
      "byteLimit": 2048000,
      "implicitDf": true,
      "rowLimit": 10000
     },
     "inputWidgets": {},
     "nuid": "bcafa1d5-ff07-49a7-bb2b-0f3ac1d8ef8b",
     "showTitle": false,
     "title": ""
    }
   },
   "outputs": [],
   "source": [
    "%sql\n",
    "CREATE TABLE IF NOT EXISTS health_plans.in_network_rates USING DELTA LOCATION '/mnt/edl/raw/iowa_health_plans/in_network_rates';"
   ]
  },
  {
   "cell_type": "code",
   "execution_count": 0,
   "metadata": {
    "application/vnd.databricks.v1+cell": {
     "cellMetadata": {
      "byteLimit": 2048000,
      "implicitDf": true,
      "rowLimit": 10000
     },
     "inputWidgets": {},
     "nuid": "1d9c47c8-fc6c-4e79-9c10-e9f1468d0fed",
     "showTitle": false,
     "title": ""
    }
   },
   "outputs": [],
   "source": [
    "%sql\n",
    "CREATE TABLE IF NOT EXISTS health_plans.provider_references USING DELTA LOCATION '/mnt/edl/raw/iowa_health_plans/provider_references';"
   ]
  },
  {
   "cell_type": "markdown",
   "metadata": {
    "application/vnd.databricks.v1+cell": {
     "cellMetadata": {},
     "inputWidgets": {},
     "nuid": "d6166ef2-01f9-43be-9aa9-bd906eb432cd",
     "showTitle": false,
     "title": ""
    }
   },
   "source": [
    "Create Silver table on top of the exploded data if table does not exist."
   ]
  },
  {
   "cell_type": "markdown",
   "metadata": {
    "application/vnd.databricks.v1+cell": {
     "cellMetadata": {},
     "inputWidgets": {},
     "nuid": "72152f08-737e-429a-bd06-905617f93570",
     "showTitle": false,
     "title": ""
    }
   },
   "source": [
    "Explode the provider reference table by npi as npi_number"
   ]
  },
  {
   "cell_type": "code",
   "execution_count": 0,
   "metadata": {
    "application/vnd.databricks.v1+cell": {
     "cellMetadata": {
      "byteLimit": 2048000,
      "rowLimit": 10000
     },
     "inputWidgets": {},
     "nuid": "d88396da-4188-4ba6-b9ed-13c5da4237f0",
     "showTitle": false,
     "title": ""
    }
   },
   "outputs": [],
   "source": [
    "sql_query = \"SELECT explode(npi) as npi_number, `tin.type`, `tin.value`, provider_group_id, reporting_entity_name, reporting_entity_type, last_updated_on, version from health_plans.provider_references\""
   ]
  },
  {
   "cell_type": "code",
   "execution_count": 0,
   "metadata": {
    "application/vnd.databricks.v1+cell": {
     "cellMetadata": {
      "byteLimit": 2048000,
      "rowLimit": 10000
     },
     "inputWidgets": {},
     "nuid": "eb1fc4f5-e0a0-4a39-827c-f9e7016a4e71",
     "showTitle": false,
     "title": ""
    }
   },
   "outputs": [],
   "source": [
    "provider_references_rates_exploded = spark.sql(sql_query)"
   ]
  },
  {
   "cell_type": "code",
   "execution_count": 0,
   "metadata": {
    "application/vnd.databricks.v1+cell": {
     "cellMetadata": {
      "byteLimit": 2048000,
      "rowLimit": 10000
     },
     "inputWidgets": {},
     "nuid": "cea36c49-5f79-4d04-bda2-b7866fcde13e",
     "showTitle": false,
     "title": ""
    }
   },
   "outputs": [],
   "source": [
    "provider_references_rates_exploded.write.mode(\"overwrite\").partitionBy(\n",
    "    \"reporting_entity_name\"\n",
    ").option(\"overwriteSchema\", \"true\").format(\"delta\").save(\n",
    "    \"/mnt/edl/raw/iowa_health_plans/provider_references_exploded\"\n",
    ")"
   ]
  },
  {
   "cell_type": "code",
   "execution_count": 0,
   "metadata": {
    "application/vnd.databricks.v1+cell": {
     "cellMetadata": {
      "byteLimit": 2048000,
      "implicitDf": true,
      "rowLimit": 10000
     },
     "inputWidgets": {},
     "nuid": "b8c2ea26-a850-4410-9db0-ec1009319cd7",
     "showTitle": false,
     "title": ""
    }
   },
   "outputs": [],
   "source": [
    "%sql\n",
    "CREATE TABLE IF NOT EXISTS health_plans.provider_references_exploded USING DELTA LOCATION '/mnt/edl/raw/iowa_health_plans/provider_references_exploded';"
   ]
  },
  {
   "cell_type": "markdown",
   "metadata": {
    "application/vnd.databricks.v1+cell": {
     "cellMetadata": {},
     "inputWidgets": {},
     "nuid": "9e0d4fc1-ac04-4e07-b4aa-152d96402dfd",
     "showTitle": false,
     "title": ""
    }
   },
   "source": [
    "This process needs to be repeated for each insurance provider\n",
    "- UMR INC (UHC)\n",
    "- HealthSparq (Wellmark)\n",
    "- Merative on behalf of HealthPartners"
   ]
  },
  {
   "cell_type": "markdown",
   "metadata": {
    "application/vnd.databricks.v1+cell": {
     "cellMetadata": {},
     "inputWidgets": {},
     "nuid": "1501f066-6bcc-4c28-be81-fc843e4d78ca",
     "showTitle": false,
     "title": ""
    }
   },
   "source": [
    "Remove data which does not belong to IOWA providers for provider_references_exploded"
   ]
  },
  {
   "cell_type": "code",
   "execution_count": 0,
   "metadata": {
    "application/vnd.databricks.v1+cell": {
     "cellMetadata": {},
     "inputWidgets": {},
     "nuid": "1ea1340c-3709-4dab-888f-559ad70ea1c1",
     "showTitle": false,
     "title": ""
    }
   },
   "outputs": [],
   "source": [
    "ia_provider_references = spark.sql(\"select * from health_plans.provider_references_exploded pre where pre.npi_number in (select npi from health_plans.npi) and reporting_entity_name = 'Merative on behalf of HealthPartners');"
   ]
  },
  {
   "cell_type": "code",
   "execution_count": 0,
   "metadata": {
    "application/vnd.databricks.v1+cell": {
     "cellMetadata": {},
     "inputWidgets": {},
     "nuid": "683fd62b-a65e-4b9b-af83-e9cbb1eea261",
     "showTitle": false,
     "title": ""
    }
   },
   "outputs": [],
   "source": [
    "ia_provider_references = ia_provider_references.dropDuplicates()"
   ]
  },
  {
   "cell_type": "code",
   "execution_count": 0,
   "metadata": {
    "application/vnd.databricks.v1+cell": {
     "cellMetadata": {},
     "inputWidgets": {},
     "nuid": "bcbb62d5-1dd9-4738-b313-55bae816196b",
     "showTitle": false,
     "title": ""
    }
   },
   "outputs": [],
   "source": [
    "ia_provider_references.write.mode(\"overwrite\").partitionBy(\n",
    "    \"reporting_entity_name\"\n",
    ").option(\"overwriteSchema\", \"true\").format(\"delta\").save(\n",
    "    \"/mnt/edl/raw/iowa_health_plans/ia_provider_references\"\n",
    "  \n",
    ")"
   ]
  },
  {
   "cell_type": "code",
   "execution_count": 0,
   "metadata": {
    "application/vnd.databricks.v1+cell": {
     "cellMetadata": {},
     "inputWidgets": {},
     "nuid": "e04990fc-58ee-47af-b293-8b193b2e6bb1",
     "showTitle": false,
     "title": ""
    }
   },
   "outputs": [],
   "source": [
    "%sql\n",
    "CREATE TABLE IF NOT EXISTS health_plans.ia_provider_references USING DELTA LOCATION '/mnt/edl/raw/iowa_health_plans/ia_provider_references';"
   ]
  },
  {
   "cell_type": "code",
   "execution_count": 0,
   "metadata": {
    "application/vnd.databricks.v1+cell": {
     "cellMetadata": {
      "byteLimit": 2048000,
      "implicitDf": true,
      "rowLimit": 10000
     },
     "inputWidgets": {},
     "nuid": "c40c267c-83ec-4881-8166-9596365955fb",
     "showTitle": false,
     "title": ""
    }
   },
   "outputs": [],
   "source": [
    "%sql\n",
    "show tables from health_plans"
   ]
  },
  {
   "cell_type": "markdown",
   "metadata": {
    "application/vnd.databricks.v1+cell": {
     "cellMetadata": {},
     "inputWidgets": {},
     "nuid": "02de9ca8-d3db-4df2-9636-3f9d082d533b",
     "showTitle": false,
     "title": ""
    }
   },
   "source": [
    "Remove data which does not belong to IOWA providers for in_network_rates"
   ]
  },
  {
   "cell_type": "markdown",
   "metadata": {
    "application/vnd.databricks.v1+cell": {
     "cellMetadata": {},
     "inputWidgets": {},
     "nuid": "13b16a75-2712-469b-ae66-1de6b1c41ced",
     "showTitle": false,
     "title": ""
    }
   },
   "source": [
    "This process needs to be repeated for each insurance provider\n",
    "- UMR INC (UHC)\n",
    "- HealthSparq (Wellmark)\n",
    "- Merative on behalf of HealthPartners"
   ]
  },
  {
   "cell_type": "code",
   "execution_count": 0,
   "metadata": {
    "application/vnd.databricks.v1+cell": {
     "cellMetadata": {
      "byteLimit": 2048000,
      "rowLimit": 10000
     },
     "inputWidgets": {},
     "nuid": "bb143090-2723-43a9-9f01-53ace2b2cae6",
     "showTitle": false,
     "title": ""
    }
   },
   "outputs": [],
   "source": [
    "ia_inr_df = spark.sql(\"select * from health_plans.in_network_rates where reporting_entity_name = 'Merative on behalf of HealthPartners' and provider_references in ( select pre.provider_group_id from health_plans.provider_references_exploded pre where pre.npi_number in (select npi from health_plans.npi) and reporting_entity_name = 'Merative on behalf of HealthPartners')\");"
   ]
  },
  {
   "cell_type": "code",
   "execution_count": 0,
   "metadata": {
    "application/vnd.databricks.v1+cell": {
     "cellMetadata": {
      "byteLimit": 2048000,
      "rowLimit": 10000
     },
     "inputWidgets": {},
     "nuid": "c20c1285-ccec-4407-91b5-f12a6f42ba02",
     "showTitle": false,
     "title": ""
    }
   },
   "outputs": [],
   "source": [
    "ia_inr_df.write.mode(\"append\").partitionBy(\n",
    "    \"reporting_entity_name\"\n",
    ").option(\"mergeSchema\", \"true\").format(\"delta\").save(\n",
    "    \"/mnt/edl/raw/iowa_health_plans/ia_in_network_rates\"\n",
    ")"
   ]
  },
  {
   "cell_type": "code",
   "execution_count": 0,
   "metadata": {
    "application/vnd.databricks.v1+cell": {
     "cellMetadata": {
      "byteLimit": 2048000,
      "implicitDf": true,
      "rowLimit": 10000
     },
     "inputWidgets": {},
     "nuid": "44835a0b-7e4d-49ee-8aaa-f70b8f2c30f0",
     "showTitle": false,
     "title": ""
    }
   },
   "outputs": [],
   "source": [
    "%sql\n",
    "CREATE TABLE IF NOT EXISTS health_plans.ia_in_network_rates USING DELTA LOCATION '/mnt/edl/raw/iowa_health_plans/ia_in_network_rates';"
   ]
  },
  {
   "cell_type": "markdown",
   "metadata": {
    "application/vnd.databricks.v1+cell": {
     "cellMetadata": {},
     "inputWidgets": {},
     "nuid": "d0a9f4ce-85f8-4594-bfd5-e0baf8bedd34",
     "showTitle": false,
     "title": ""
    }
   },
   "source": [
    "Remove duplicates from ia_in_network_rates if found"
   ]
  },
  {
   "cell_type": "code",
   "execution_count": 0,
   "metadata": {
    "application/vnd.databricks.v1+cell": {
     "cellMetadata": {
      "byteLimit": 2048000,
      "rowLimit": 10000
     },
     "inputWidgets": {},
     "nuid": "deb2379c-f23b-4e68-8e6b-4534fa53a4b5",
     "showTitle": false,
     "title": ""
    }
   },
   "outputs": [],
   "source": [
    "ia_in_network_rates_df = spark.sql('select * from health_plans.ia_in_network_rates inr where inr.provider_references in (select ipr.provider_group_id from health_plans.ia_provider_references ipr where inr.reporting_entity_name = ipr.reporting_entity_name)')"
   ]
  },
  {
   "cell_type": "code",
   "execution_count": 0,
   "metadata": {
    "application/vnd.databricks.v1+cell": {
     "cellMetadata": {
      "byteLimit": 2048000,
      "rowLimit": 10000
     },
     "inputWidgets": {},
     "nuid": "16ca52fd-b64c-4ea6-8b15-1d8e91b10605",
     "showTitle": false,
     "title": ""
    }
   },
   "outputs": [],
   "source": [
    "ia_in_network_rates_df = ia_in_network_rates_df.dropDuplicates()"
   ]
  },
  {
   "cell_type": "code",
   "execution_count": 0,
   "metadata": {
    "application/vnd.databricks.v1+cell": {
     "cellMetadata": {
      "byteLimit": 2048000,
      "rowLimit": 10000
     },
     "inputWidgets": {},
     "nuid": "abbd6b34-8419-4b88-a37d-4b86fc757996",
     "showTitle": false,
     "title": ""
    }
   },
   "outputs": [],
   "source": [
    "ia_in_network_rates_df.write.mode(\"overwrite\").partitionBy(\n",
    "    \"reporting_entity_name\"\n",
    ").option(\"overwriteSchema\", \"true\").format(\"delta\").save(\n",
    "    \"/mnt/edl/raw/iowa_health_plans/ia_in_network_rates\"\n",
    "  \n",
    ")"
   ]
  }
 ],
 "metadata": {
  "application/vnd.databricks.v1+notebook": {
   "dashboards": [],
   "language": "python",
   "notebookMetadata": {
    "mostRecentlyExecutedCommandWithImplicitDF": {
     "commandId": 297563425379061,
     "dataframes": [
      "_sqldf"
     ]
    },
    "pythonIndentUnit": 2
   },
   "notebookName": "iowa_health_plans",
   "notebookOrigID": 1199088743213924,
   "widgets": {}
  }
 },
 "nbformat": 4,
 "nbformat_minor": 0
}
